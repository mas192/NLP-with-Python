{
  "nbformat": 4,
  "nbformat_minor": 0,
  "metadata": {
    "kernelspec": {
      "name": "python3",
      "display_name": "Python 3"
    },
    "language_info": {
      "codemirror_mode": {
        "name": "ipython",
        "version": 3
      },
      "file_extension": ".py",
      "mimetype": "text/x-python",
      "name": "python",
      "nbconvert_exporter": "python",
      "pygments_lexer": "ipython3",
      "version": "3.6.9"
    },
    "latex_envs": {
      "LaTeX_envs_menu_present": true,
      "autoclose": false,
      "autocomplete": true,
      "bibliofile": "biblio.bib",
      "cite_by": "apalike",
      "current_citInitial": 1,
      "eqLabelWithNumbers": true,
      "eqNumInitial": 1,
      "hotkeys": {
        "equation": "Ctrl-E",
        "itemize": "Ctrl-I"
      },
      "labels_anchors": false,
      "latex_user_defs": false,
      "report_style_numbering": false,
      "user_envs_cfg": false
    },
    "nbTranslate": {
      "displayLangs": [
        "*"
      ],
      "hotkey": "alt-t",
      "langInMainMenu": true,
      "sourceLang": "en",
      "targetLang": "fr",
      "useGoogleTranslate": true
    },
    "toc": {
      "base_numbering": 1,
      "nav_menu": {},
      "number_sections": true,
      "sideBar": true,
      "skip_h1_title": false,
      "title_cell": "Table of Contents",
      "title_sidebar": "Contents",
      "toc_cell": false,
      "toc_position": {},
      "toc_section_display": true,
      "toc_window_display": false
    },
    "varInspector": {
      "cols": {
        "lenName": 16,
        "lenType": 16,
        "lenVar": 40
      },
      "kernels_config": {
        "python": {
          "delete_cmd_postfix": "",
          "delete_cmd_prefix": "del ",
          "library": "var_list.py",
          "varRefreshCmd": "print(var_dic_list())"
        },
        "r": {
          "delete_cmd_postfix": ") ",
          "delete_cmd_prefix": "rm(",
          "library": "var_list.r",
          "varRefreshCmd": "cat(var_dic_list()) "
        }
      },
      "types_to_exclude": [
        "module",
        "function",
        "builtin_function_or_method",
        "instance",
        "_Feature"
      ],
      "window_display": false
    },
    "colab": {
      "name": "Ideal_Work_Culture__c.ipynb",
      "provenance": [],
      "collapsed_sections": [],
      "include_colab_link": true
    },
    "accelerator": "GPU"
  },
  "cells": [
    {
      "cell_type": "markdown",
      "metadata": {
        "id": "view-in-github",
        "colab_type": "text"
      },
      "source": [
        "<a href=\"https://colab.research.google.com/github/mas192/NLP-with-Python/blob/master/Ideal_Work_Culture__c.ipynb\" target=\"_parent\"><img src=\"https://colab.research.google.com/assets/colab-badge.svg\" alt=\"Open In Colab\"/></a>"
      ]
    },
    {
      "cell_type": "code",
      "metadata": {
        "ExecuteTime": {
          "end_time": "2019-09-03T04:41:56.312348Z",
          "start_time": "2019-09-03T04:41:56.309064Z"
        },
        "id": "wR3kTphkXuRb",
        "colab_type": "code",
        "colab": {
          "base_uri": "https://localhost:8080/",
          "height": 176
        },
        "outputId": "2890093f-8ba6-43e0-c9b5-b56936d042b1"
      },
      "source": [
        "#Source https://towardsdatascience.com/predicting-wine-quality-using-text-reviews-8bddaeb5285d"
      ],
      "execution_count": 3,
      "outputs": [
        {
          "output_type": "stream",
          "text": [
            "Requirement already satisfied: boto3 in /usr/local/lib/python3.6/dist-packages (1.14.9)\n",
            "Requirement already satisfied: s3transfer<0.4.0,>=0.3.0 in /usr/local/lib/python3.6/dist-packages (from boto3) (0.3.3)\n",
            "Requirement already satisfied: botocore<1.18.0,>=1.17.9 in /usr/local/lib/python3.6/dist-packages (from boto3) (1.17.9)\n",
            "Requirement already satisfied: jmespath<1.0.0,>=0.7.1 in /usr/local/lib/python3.6/dist-packages (from boto3) (0.10.0)\n",
            "Requirement already satisfied: docutils<0.16,>=0.10 in /usr/local/lib/python3.6/dist-packages (from botocore<1.18.0,>=1.17.9->boto3) (0.15.2)\n",
            "Requirement already satisfied: urllib3<1.26,>=1.20; python_version != \"3.4\" in /usr/local/lib/python3.6/dist-packages (from botocore<1.18.0,>=1.17.9->boto3) (1.24.3)\n",
            "Requirement already satisfied: python-dateutil<3.0.0,>=2.1 in /usr/local/lib/python3.6/dist-packages (from botocore<1.18.0,>=1.17.9->boto3) (2.8.1)\n",
            "Requirement already satisfied: six>=1.5 in /usr/local/lib/python3.6/dist-packages (from python-dateutil<3.0.0,>=2.1->botocore<1.18.0,>=1.17.9->boto3) (1.12.0)\n",
            "/usr/local/nvidia/bin:/usr/local/cuda/bin:/usr/local/sbin:/usr/local/bin:/usr/sbin:/usr/bin:/sbin:/bin:/tools/node/bin:/tools/google-cloud-sdk/bin:/opt/bin\n"
          ],
          "name": "stdout"
        }
      ]
    },
    {
      "cell_type": "code",
      "metadata": {
        "ExecuteTime": {
          "end_time": "2019-09-03T04:41:57.347431Z",
          "start_time": "2019-09-03T04:41:57.110373Z"
        },
        "id": "iTE7uq30XuRe",
        "colab_type": "code",
        "colab": {}
      },
      "source": [
        "import pandas as pd\n",
        "import numpy as np"
      ],
      "execution_count": null,
      "outputs": []
    },
    {
      "cell_type": "code",
      "metadata": {
        "id": "OU0sUpiHwbun",
        "colab_type": "code",
        "colab": {
          "base_uri": "https://localhost:8080/",
          "height": 122
        },
        "outputId": "0dbb86a7-204b-42ab-a223-987b14f3b83b"
      },
      "source": [
        "\n",
        "from google.colab import drive\n",
        "drive.mount('/gdrive')"
      ],
      "execution_count": null,
      "outputs": [
        {
          "output_type": "stream",
          "text": [
            "Go to this URL in a browser: https://accounts.google.com/o/oauth2/auth?client_id=947318989803-6bn6qk8qdgf4n4g3pfee6491hc0brc4i.apps.googleusercontent.com&redirect_uri=urn%3Aietf%3Awg%3Aoauth%3A2.0%3Aoob&scope=email%20https%3A%2F%2Fwww.googleapis.com%2Fauth%2Fdocs.test%20https%3A%2F%2Fwww.googleapis.com%2Fauth%2Fdrive%20https%3A%2F%2Fwww.googleapis.com%2Fauth%2Fdrive.photos.readonly%20https%3A%2F%2Fwww.googleapis.com%2Fauth%2Fpeopleapi.readonly&response_type=code\n",
            "\n",
            "Enter your authorization code:\n",
            "··········\n",
            "Mounted at /gdrive\n"
          ],
          "name": "stdout"
        }
      ]
    },
    {
      "cell_type": "code",
      "metadata": {
        "id": "_H2NoKbL4Swo",
        "colab_type": "code",
        "colab": {
          "base_uri": "https://localhost:8080/",
          "height": 34
        },
        "outputId": "55c284c8-8c73-4aad-f6b0-e089448d5eac"
      },
      "source": [
        "!ls '/gdrive/My Drive/Colab Notebooks/capstone_project'"
      ],
      "execution_count": null,
      "outputs": [
        {
          "output_type": "stream",
          "text": [
            "df_words.json  Ideal_Work_Culture__c.ipynb\n"
          ],
          "name": "stdout"
        }
      ]
    },
    {
      "cell_type": "code",
      "metadata": {
        "ExecuteTime": {
          "end_time": "2019-09-03T04:41:59.014337Z",
          "start_time": "2019-09-03T04:41:58.916032Z"
        },
        "id": "ZwEsX7U1XuRg",
        "colab_type": "code",
        "colab": {}
      },
      "source": [
        "\n",
        "\n",
        "tractionondemand_path = '/gdrive/My Drive/Brainstation/Project/tractionondemand/'\n",
        "capstone_project_path = '/gdrive/My Drive/Colab Notebooks/capstone_project'\n",
        "df = pd.read_json('/gdrive/My Drive/Colab Notebooks/capstone_project/df_words.json')"
      ],
      "execution_count": null,
      "outputs": []
    },
    {
      "cell_type": "code",
      "metadata": {
        "id": "DN_Qyp7F2UXd",
        "colab_type": "code",
        "colab": {}
      },
      "source": [
        ""
      ],
      "execution_count": null,
      "outputs": []
    },
    {
      "cell_type": "code",
      "metadata": {
        "id": "nc0dKYrLuuhB",
        "colab_type": "code",
        "colab": {}
      },
      "source": [
        ""
      ],
      "execution_count": null,
      "outputs": []
    },
    {
      "cell_type": "code",
      "metadata": {
        "ExecuteTime": {
          "end_time": "2019-09-03T04:41:59.691452Z",
          "start_time": "2019-09-03T04:41:59.651077Z"
        },
        "id": "udmUCj4OXuRj",
        "colab_type": "code",
        "colab": {
          "base_uri": "https://localhost:8080/",
          "height": 320
        },
        "outputId": "bbf06236-03e4-463b-80c9-22043bba8b41"
      },
      "source": [
        "df.sample(5).T"
      ],
      "execution_count": null,
      "outputs": [
        {
          "output_type": "execute_result",
          "data": {
            "text/html": [
              "<div>\n",
              "<style scoped>\n",
              "    .dataframe tbody tr th:only-of-type {\n",
              "        vertical-align: middle;\n",
              "    }\n",
              "\n",
              "    .dataframe tbody tr th {\n",
              "        vertical-align: top;\n",
              "    }\n",
              "\n",
              "    .dataframe thead th {\n",
              "        text-align: right;\n",
              "    }\n",
              "</style>\n",
              "<table border=\"1\" class=\"dataframe\">\n",
              "  <thead>\n",
              "    <tr style=\"text-align: right;\">\n",
              "      <th></th>\n",
              "      <th>6189</th>\n",
              "      <th>7171</th>\n",
              "      <th>67</th>\n",
              "      <th>14820</th>\n",
              "      <th>5438</th>\n",
              "    </tr>\n",
              "  </thead>\n",
              "  <tbody>\n",
              "    <tr>\n",
              "      <th>Love_to_do_in_freetime__c</th>\n",
              "      <td>Playing soccer, long-distance running, and pla...</td>\n",
              "      <td>Living in beautiful Vancouver, I love to do na...</td>\n",
              "      <td>Play League of Legends, Bowling, GO-KART</td>\n",
              "      <td>I love traveling and spending time in the Rock...</td>\n",
              "      <td>Travel or watch travel vlogs or read travel blogs</td>\n",
              "    </tr>\n",
              "    <tr>\n",
              "      <th>Ideal_Work_Culture__c</th>\n",
              "      <td>Every one works hard and efficiently, and deli...</td>\n",
              "      <td>A company culture that is like a big family. E...</td>\n",
              "      <td>Relaxed but at the same time place that I want...</td>\n",
              "      <td>I feel most comfortable in a community culture...</td>\n",
              "      <td>Professional but still fun.</td>\n",
              "    </tr>\n",
              "    <tr>\n",
              "      <th>What_drives_you_nuts__c</th>\n",
              "      <td>There was a time, a mouse run around in my hom...</td>\n",
              "      <td>When people complain too much and don't do any...</td>\n",
              "      <td>bugs - either real bugs or software</td>\n",
              "      <td>A lot of things that drive me nuts has to do w...</td>\n",
              "      <td>Over-Commitment</td>\n",
              "    </tr>\n",
              "    <tr>\n",
              "      <th>Funniest_thing_in_last_5_days__c</th>\n",
              "      <td>One evening when I went out for running, I saw...</td>\n",
              "      <td>The funniest thing that happened to me is to s...</td>\n",
              "      <td>Went to English Bay at 3 am with my friends fo...</td>\n",
              "      <td>While out on a lemur survey (in Madagascar), o...</td>\n",
              "      <td>The funniest thing happened yesterday, when I ...</td>\n",
              "    </tr>\n",
              "    <tr>\n",
              "      <th>Craziest_Thing__c</th>\n",
              "      <td>About 2 years ago, one morning when I drove to...</td>\n",
              "      <td>Moving to another country and starting my life...</td>\n",
              "      <td>Just after my midterms, had 5 free days, so I ...</td>\n",
              "      <td>The most reckless thing I have done in the las...</td>\n",
              "      <td>Paragliding over the ocean in Goa, India</td>\n",
              "    </tr>\n",
              "    <tr>\n",
              "      <th>Status__c</th>\n",
              "      <td>Not Hired</td>\n",
              "      <td>Not Hired</td>\n",
              "      <td>Not Hired</td>\n",
              "      <td>Not Hired</td>\n",
              "      <td>Not Hired</td>\n",
              "    </tr>\n",
              "  </tbody>\n",
              "</table>\n",
              "</div>"
            ],
            "text/plain": [
              "                                                                               6189  ...                                               5438\n",
              "Love_to_do_in_freetime__c         Playing soccer, long-distance running, and pla...  ...  Travel or watch travel vlogs or read travel blogs\n",
              "Ideal_Work_Culture__c             Every one works hard and efficiently, and deli...  ...                        Professional but still fun.\n",
              "What_drives_you_nuts__c           There was a time, a mouse run around in my hom...  ...                                    Over-Commitment\n",
              "Funniest_thing_in_last_5_days__c  One evening when I went out for running, I saw...  ...  The funniest thing happened yesterday, when I ...\n",
              "Craziest_Thing__c                 About 2 years ago, one morning when I drove to...  ...           Paragliding over the ocean in Goa, India\n",
              "Status__c                                                                 Not Hired  ...                                          Not Hired\n",
              "\n",
              "[6 rows x 5 columns]"
            ]
          },
          "metadata": {
            "tags": []
          },
          "execution_count": 6
        }
      ]
    },
    {
      "cell_type": "code",
      "metadata": {
        "ExecuteTime": {
          "end_time": "2019-09-03T04:42:00.750037Z",
          "start_time": "2019-09-03T04:42:00.745213Z"
        },
        "id": "nJ4pIpl5XuRm",
        "colab_type": "code",
        "colab": {
          "base_uri": "https://localhost:8080/",
          "height": 34
        },
        "outputId": "114031dd-8873-44b1-ea8d-b210770d064d"
      },
      "source": [
        "df.Status__c.unique()"
      ],
      "execution_count": null,
      "outputs": [
        {
          "output_type": "execute_result",
          "data": {
            "text/plain": [
              "array(['Not Hired', 'Hired'], dtype=object)"
            ]
          },
          "metadata": {
            "tags": []
          },
          "execution_count": 7
        }
      ]
    },
    {
      "cell_type": "code",
      "metadata": {
        "ExecuteTime": {
          "end_time": "2019-09-03T04:42:01.703751Z",
          "start_time": "2019-09-03T04:42:01.701405Z"
        },
        "id": "CPY3AwveXuRp",
        "colab_type": "code",
        "colab": {}
      },
      "source": [
        ""
      ],
      "execution_count": null,
      "outputs": []
    },
    {
      "cell_type": "code",
      "metadata": {
        "ExecuteTime": {
          "end_time": "2019-09-03T04:42:02.665509Z",
          "start_time": "2019-09-03T04:42:02.654401Z"
        },
        "id": "c1oJj1bUXuRs",
        "colab_type": "code",
        "colab": {}
      },
      "source": [
        ""
      ],
      "execution_count": null,
      "outputs": []
    },
    {
      "cell_type": "code",
      "metadata": {
        "ExecuteTime": {
          "end_time": "2019-09-03T04:42:03.551265Z",
          "start_time": "2019-09-03T04:42:03.547701Z"
        },
        "id": "n5fNJFWnXuRu",
        "colab_type": "code",
        "colab": {
          "base_uri": "https://localhost:8080/",
          "height": 34
        },
        "outputId": "373a328a-bdbe-43e6-f2d0-9aff35e09740"
      },
      "source": [
        "df.Status__c.unique()"
      ],
      "execution_count": null,
      "outputs": [
        {
          "output_type": "execute_result",
          "data": {
            "text/plain": [
              "array(['Not Hired', 'Hired'], dtype=object)"
            ]
          },
          "metadata": {
            "tags": []
          },
          "execution_count": 8
        }
      ]
    },
    {
      "cell_type": "code",
      "metadata": {
        "id": "NNDdOu_LxeWr",
        "colab_type": "code",
        "colab": {
          "base_uri": "https://localhost:8080/",
          "height": 906
        },
        "outputId": "ec2363ff-5b70-4e4a-fe9d-a8ff0064dca3"
      },
      "source": [
        "import nltk\n",
        "nltk.download()"
      ],
      "execution_count": null,
      "outputs": [
        {
          "output_type": "stream",
          "text": [
            "NLTK Downloader\n",
            "---------------------------------------------------------------------------\n",
            "    d) Download   l) List    u) Update   c) Config   h) Help   q) Quit\n",
            "---------------------------------------------------------------------------\n",
            "Downloader> l\n",
            "\n",
            "Packages:\n",
            "  [ ] abc................. Australian Broadcasting Commission 2006\n",
            "  [ ] alpino.............. Alpino Dutch Treebank\n",
            "  [ ] averaged_perceptron_tagger Averaged Perceptron Tagger\n",
            "  [ ] averaged_perceptron_tagger_ru Averaged Perceptron Tagger (Russian)\n",
            "  [ ] basque_grammars..... Grammars for Basque\n",
            "  [ ] biocreative_ppi..... BioCreAtIvE (Critical Assessment of Information\n",
            "                           Extraction Systems in Biology)\n",
            "  [ ] bllip_wsj_no_aux.... BLLIP Parser: WSJ Model\n",
            "  [ ] book_grammars....... Grammars from NLTK Book\n",
            "  [ ] brown............... Brown Corpus\n",
            "  [ ] brown_tei........... Brown Corpus (TEI XML Version)\n",
            "  [ ] cess_cat............ CESS-CAT Treebank\n",
            "  [ ] cess_esp............ CESS-ESP Treebank\n",
            "  [ ] chat80.............. Chat-80 Data Files\n",
            "  [ ] city_database....... City Database\n",
            "  [ ] cmudict............. The Carnegie Mellon Pronouncing Dictionary (0.6)\n",
            "  [ ] comparative_sentences Comparative Sentence Dataset\n",
            "  [ ] comtrans............ ComTrans Corpus Sample\n",
            "  [ ] conll2000........... CONLL 2000 Chunking Corpus\n",
            "  [ ] conll2002........... CONLL 2002 Named Entity Recognition Corpus\n",
            "Hit Enter to continue: \n",
            "  [ ] conll2007........... Dependency Treebanks from CoNLL 2007 (Catalan\n",
            "                           and Basque Subset)\n",
            "  [ ] crubadan............ Crubadan Corpus\n",
            "  [ ] dependency_treebank. Dependency Parsed Treebank\n",
            "  [ ] dolch............... Dolch Word List\n",
            "  [ ] europarl_raw........ Sample European Parliament Proceedings Parallel\n",
            "                           Corpus\n",
            "  [ ] floresta............ Portuguese Treebank\n",
            "  [ ] framenet_v15........ FrameNet 1.5\n",
            "  [ ] framenet_v17........ FrameNet 1.7\n",
            "  [ ] gazetteers.......... Gazeteer Lists\n",
            "  [ ] genesis............. Genesis Corpus\n",
            "  [ ] gutenberg........... Project Gutenberg Selections\n",
            "  [ ] ieer................ NIST IE-ER DATA SAMPLE\n",
            "  [ ] inaugural........... C-Span Inaugural Address Corpus\n",
            "  [ ] indian.............. Indian Language POS-Tagged Corpus\n",
            "  [ ] jeita............... JEITA Public Morphologically Tagged Corpus (in\n",
            "                           ChaSen format)\n",
            "  [ ] kimmo............... PC-KIMMO Data Files\n",
            "  [ ] knbc................ KNB Corpus (Annotated blog corpus)\n",
            "  [ ] large_grammars...... Large context-free and feature-based grammars\n",
            "                           for parser comparison\n"
          ],
          "name": "stdout"
        }
      ]
    },
    {
      "cell_type": "code",
      "metadata": {
        "ExecuteTime": {
          "end_time": "2019-09-03T04:42:05.396862Z",
          "start_time": "2019-09-03T04:42:04.984147Z"
        },
        "id": "5xx_Zw68XuR0",
        "colab_type": "code",
        "colab": {}
      },
      "source": [
        "import seaborn as sns\n",
        "import matplotlib.pyplot as plt\n",
        "from nltk. tokenize.treebank import TreebankWordDetokenizer\n",
        "from nltk.corpus import stopwords\n",
        "from nltk import word_tokenize\n",
        "\n",
        "#set seaborn style\n",
        "sns.set(style='whitegrid')\n",
        "\n",
        "#setting up stopwords\n",
        "\n",
        "stopwords = set(stopwords.words('english'))\n",
        "\n",
        "#Detokenizer combines tokenzied elements\n",
        "\n",
        "detokenizer = TreebankWordDetokenizer()\n"
      ],
      "execution_count": null,
      "outputs": []
    },
    {
      "cell_type": "code",
      "metadata": {
        "id": "AI6WcVVHXuR3",
        "colab_type": "code",
        "colab": {}
      },
      "source": [
        ""
      ],
      "execution_count": null,
      "outputs": []
    },
    {
      "cell_type": "code",
      "metadata": {
        "ExecuteTime": {
          "end_time": "2019-09-03T04:42:10.664763Z",
          "start_time": "2019-09-03T04:42:07.245437Z"
        },
        "id": "jO1lJapgXuR5",
        "colab_type": "code",
        "colab": {}
      },
      "source": [
        "#\n",
        "\n",
        "def clean_description(sentences):\n",
        "    sentences = word_tokenize(sentences.lower())\n",
        "    sentences = [token for token in sentences if token not in stopwords and token.isalpha()]\n",
        "    return detokenizer.detokenize(sentences)\n",
        "\n",
        "df['Ideal_Work_Culture__c'] = df['Ideal_Work_Culture__c'].apply(clean_description)"
      ],
      "execution_count": null,
      "outputs": []
    },
    {
      "cell_type": "code",
      "metadata": {
        "ExecuteTime": {
          "end_time": "2019-09-03T04:42:12.419381Z",
          "start_time": "2019-09-03T04:42:11.490269Z"
        },
        "id": "_q2sOjPTXuR8",
        "colab_type": "code",
        "colab": {
          "base_uri": "https://localhost:8080/",
          "height": 561
        },
        "outputId": "b21773e1-27ea-474e-ce68-98bf8c002536"
      },
      "source": [
        "Ideal_word_occurence = df.Ideal_Work_Culture__c.str.split(expand=True).stack().value_counts()\n",
        "display(type(Ideal_word_occurence))\n",
        "display(Ideal_word_occurence[:30])"
      ],
      "execution_count": null,
      "outputs": [
        {
          "output_type": "display_data",
          "data": {
            "text/plain": [
              "pandas.core.series.Series"
            ]
          },
          "metadata": {
            "tags": []
          }
        },
        {
          "output_type": "display_data",
          "data": {
            "text/plain": [
              "work             5668\n",
              "culture          3565\n",
              "people           3010\n",
              "environment      2731\n",
              "team             2654\n",
              "would            2237\n",
              "like             2169\n",
              "working          1784\n",
              "fun              1546\n",
              "ideal            1338\n",
              "one              1309\n",
              "company          1229\n",
              "open             1117\n",
              "everyone         1063\n",
              "place            1060\n",
              "friendly         1036\n",
              "also              985\n",
              "want              935\n",
              "hard              924\n",
              "love              918\n",
              "learn             786\n",
              "collaborative     744\n",
              "ideas             737\n",
              "new               711\n",
              "employees         704\n",
              "good              654\n",
              "learning          617\n",
              "time              574\n",
              "grow              564\n",
              "supportive        558\n",
              "dtype: int64"
            ]
          },
          "metadata": {
            "tags": []
          }
        }
      ]
    },
    {
      "cell_type": "code",
      "metadata": {
        "ExecuteTime": {
          "end_time": "2019-09-03T04:42:14.309275Z",
          "start_time": "2019-09-03T04:42:14.302388Z"
        },
        "id": "Dg0gTezZXuR-",
        "colab_type": "code",
        "colab": {
          "base_uri": "https://localhost:8080/",
          "height": 51
        },
        "outputId": "d8212536-5141-4d24-bff9-2530ddfd1c61"
      },
      "source": [
        "Ideal_to_do_total_words = sum(Ideal_word_occurence)\n",
        "display(type(Ideal_to_do_total_words))\n",
        "display(Ideal_to_do_total_words)"
      ],
      "execution_count": null,
      "outputs": [
        {
          "output_type": "display_data",
          "data": {
            "text/plain": [
              "int"
            ]
          },
          "metadata": {
            "tags": []
          }
        },
        {
          "output_type": "display_data",
          "data": {
            "text/plain": [
              "140280"
            ]
          },
          "metadata": {
            "tags": []
          }
        }
      ]
    },
    {
      "cell_type": "code",
      "metadata": {
        "ExecuteTime": {
          "end_time": "2019-09-03T04:42:15.732064Z",
          "start_time": "2019-09-03T04:42:15.497954Z"
        },
        "id": "H8UizLLDXuSB",
        "colab_type": "code",
        "colab": {
          "base_uri": "https://localhost:8080/",
          "height": 284
        },
        "outputId": "80da65c9-8009-47d0-f0e6-057bbad02f37"
      },
      "source": [
        "#plot the most common words\n",
        "\n",
        "Ideal_common_words = Ideal_word_occurence[:20]/Ideal_to_do_total_words\n",
        "\n",
        "ax = sns.barplot(x= Ideal_common_words.values, y =Ideal_common_words.index)\n",
        "ax.set_title('Percent occurence of common words in \"Ideal Work Culture\"')\n",
        "plt.show()"
      ],
      "execution_count": null,
      "outputs": [
        {
          "output_type": "display_data",
          "data": {
            "image/png": "[encoded data removed]",
            "text/plain": [
              "<Figure size 432x288 with 1 Axes>"
            ]
          },
          "metadata": {
            "tags": []
          }
        }
      ]
    },
    {
      "cell_type": "code",
      "metadata": {
        "ExecuteTime": {
          "end_time": "2019-09-03T04:42:16.584666Z",
          "start_time": "2019-09-03T04:42:16.578312Z"
        },
        "id": "DBKzi_CGXuSD",
        "colab_type": "code",
        "colab": {
          "base_uri": "https://localhost:8080/",
          "height": 68
        },
        "outputId": "00a23a95-95e0-4669-9e35-12ae12c10ce0"
      },
      "source": [
        "df.Status__c.value_counts()"
      ],
      "execution_count": null,
      "outputs": [
        {
          "output_type": "execute_result",
          "data": {
            "text/plain": [
              "Not Hired    9140\n",
              "Hired         344\n",
              "Name: Status__c, dtype: int64"
            ]
          },
          "metadata": {
            "tags": []
          },
          "execution_count": 135
        }
      ]
    },
    {
      "cell_type": "code",
      "metadata": {
        "ExecuteTime": {
          "end_time": "2019-09-03T04:42:17.708086Z",
          "start_time": "2019-09-03T04:42:17.704100Z"
        },
        "id": "ALLyYNFcXuSG",
        "colab_type": "code",
        "colab": {
          "base_uri": "https://localhost:8080/",
          "height": 51
        },
        "outputId": "83cb3332-1790-4ea9-bd85-4d6354aa30d1"
      },
      "source": [
        "hired_imbalance = 7899/343\n",
        "other_imbalance = 2679/343\n",
        "display(round(hired_imbalance))\n",
        "display(round(other_imbalance))"
      ],
      "execution_count": null,
      "outputs": [
        {
          "output_type": "display_data",
          "data": {
            "text/plain": [
              "23"
            ]
          },
          "metadata": {
            "tags": []
          }
        },
        {
          "output_type": "display_data",
          "data": {
            "text/plain": [
              "8"
            ]
          },
          "metadata": {
            "tags": []
          }
        }
      ]
    },
    {
      "cell_type": "code",
      "metadata": {
        "ExecuteTime": {
          "end_time": "2019-09-03T04:42:19.085345Z",
          "start_time": "2019-09-03T04:42:19.080581Z"
        },
        "id": "vnQ6LBhuXuSI",
        "colab_type": "code",
        "colab": {}
      },
      "source": [
        "total_classes = 2\n",
        "embedding_dim = 300\n",
        "epochs = 100\n",
        "batch_size = 120\n",
        "max_len = 100\n"
      ],
      "execution_count": null,
      "outputs": []
    },
    {
      "cell_type": "code",
      "metadata": {
        "ExecuteTime": {
          "end_time": "2019-09-03T04:42:22.425812Z",
          "start_time": "2019-09-03T04:42:21.821501Z"
        },
        "id": "0nZHpBoZXuSK",
        "colab_type": "code",
        "colab": {}
      },
      "source": [
        "from keras.models import Model, load_model\n",
        "from keras.layers import Dense\n",
        "from keras.layers import Embedding\n",
        "from keras.layers import Input\n",
        "from keras.layers import Activation\n",
        "from keras.layers import CuDNNGRU\n",
        "from keras.layers import Bidirectional\n",
        "from keras.layers import Dropout\n",
        "from keras.layers import GlobalAveragePooling1D\n",
        "from keras.preprocessing.text import Tokenizer\n",
        "from keras.preprocessing.sequence import pad_sequences\n",
        "from keras.callbacks import EarlyStopping\n",
        "from keras.callbacks import ModelCheckpoint\n",
        "from keras.callbacks import Callback"
      ],
      "execution_count": null,
      "outputs": []
    },
    {
      "cell_type": "code",
      "metadata": {
        "id": "11eU_UoWDU_Y",
        "colab_type": "code",
        "colab": {}
      },
      "source": [
        "y = df.loc[:,['Status__c']]"
      ],
      "execution_count": null,
      "outputs": []
    },
    {
      "cell_type": "code",
      "metadata": {
        "ExecuteTime": {
          "end_time": "2019-09-03T04:42:23.870913Z",
          "start_time": "2019-09-03T04:42:23.863369Z"
        },
        "id": "niebufT8XuSN",
        "colab_type": "code",
        "colab": {}
      },
      "source": [
        "y = pd.get_dummies(y)"
      ],
      "execution_count": null,
      "outputs": []
    },
    {
      "cell_type": "code",
      "metadata": {
        "ExecuteTime": {
          "end_time": "2019-09-03T04:42:34.081112Z",
          "start_time": "2019-09-03T04:42:34.065660Z"
        },
        "id": "SJiErgPTXuSQ",
        "colab_type": "code",
        "colab": {
          "base_uri": "https://localhost:8080/",
          "height": 359
        },
        "outputId": "3d7b4477-543d-4058-e138-ed5d7b3bfa9a"
      },
      "source": [
        "y.sample(10)"
      ],
      "execution_count": null,
      "outputs": [
        {
          "output_type": "execute_result",
          "data": {
            "text/html": [
              "<div>\n",
              "<style scoped>\n",
              "    .dataframe tbody tr th:only-of-type {\n",
              "        vertical-align: middle;\n",
              "    }\n",
              "\n",
              "    .dataframe tbody tr th {\n",
              "        vertical-align: top;\n",
              "    }\n",
              "\n",
              "    .dataframe thead th {\n",
              "        text-align: right;\n",
              "    }\n",
              "</style>\n",
              "<table border=\"1\" class=\"dataframe\">\n",
              "  <thead>\n",
              "    <tr style=\"text-align: right;\">\n",
              "      <th></th>\n",
              "      <th>Status__c_Hired</th>\n",
              "      <th>Status__c_Not Hired</th>\n",
              "    </tr>\n",
              "  </thead>\n",
              "  <tbody>\n",
              "    <tr>\n",
              "      <th>10671</th>\n",
              "      <td>0</td>\n",
              "      <td>1</td>\n",
              "    </tr>\n",
              "    <tr>\n",
              "      <th>9397</th>\n",
              "      <td>0</td>\n",
              "      <td>1</td>\n",
              "    </tr>\n",
              "    <tr>\n",
              "      <th>15696</th>\n",
              "      <td>0</td>\n",
              "      <td>1</td>\n",
              "    </tr>\n",
              "    <tr>\n",
              "      <th>11299</th>\n",
              "      <td>0</td>\n",
              "      <td>1</td>\n",
              "    </tr>\n",
              "    <tr>\n",
              "      <th>13492</th>\n",
              "      <td>0</td>\n",
              "      <td>1</td>\n",
              "    </tr>\n",
              "    <tr>\n",
              "      <th>13667</th>\n",
              "      <td>0</td>\n",
              "      <td>1</td>\n",
              "    </tr>\n",
              "    <tr>\n",
              "      <th>3634</th>\n",
              "      <td>0</td>\n",
              "      <td>1</td>\n",
              "    </tr>\n",
              "    <tr>\n",
              "      <th>14933</th>\n",
              "      <td>0</td>\n",
              "      <td>1</td>\n",
              "    </tr>\n",
              "    <tr>\n",
              "      <th>6152</th>\n",
              "      <td>0</td>\n",
              "      <td>1</td>\n",
              "    </tr>\n",
              "    <tr>\n",
              "      <th>3214</th>\n",
              "      <td>0</td>\n",
              "      <td>1</td>\n",
              "    </tr>\n",
              "  </tbody>\n",
              "</table>\n",
              "</div>"
            ],
            "text/plain": [
              "       Status__c_Hired  Status__c_Not Hired\n",
              "10671                0                    1\n",
              "9397                 0                    1\n",
              "15696                0                    1\n",
              "11299                0                    1\n",
              "13492                0                    1\n",
              "13667                0                    1\n",
              "3634                 0                    1\n",
              "14933                0                    1\n",
              "6152                 0                    1\n",
              "3214                 0                    1"
            ]
          },
          "metadata": {
            "tags": []
          },
          "execution_count": 144
        }
      ]
    },
    {
      "cell_type": "code",
      "metadata": {
        "ExecuteTime": {
          "end_time": "2019-09-03T04:45:44.080144Z",
          "start_time": "2019-09-03T04:45:44.070310Z"
        },
        "id": "T5rEJ9rkXuSU",
        "colab_type": "code",
        "colab": {}
      },
      "source": [
        "from sklearn.model_selection import train_test_split\n",
        "X_train, X_test, y_train, y_test = train_test_split(df.Ideal_Work_Culture__c,\n",
        "                                                   y, test_size = 0.2, random_state = 42, stratify=y) # stratify the y\n",
        "\n",
        "\n",
        "X_train, X_val, y_train, y_val = train_test_split(X_train, y_train, test_size=0.2, random_state= 42, stratify=y_train)"
      ],
      "execution_count": null,
      "outputs": []
    },
    {
      "cell_type": "code",
      "metadata": {
        "id": "uV7M911iBtom",
        "colab_type": "code",
        "colab": {
          "base_uri": "https://localhost:8080/",
          "height": 51
        },
        "outputId": "23823555-1c5c-4c87-8746-66f5b27dd47c"
      },
      "source": [
        "display(type(y_val))\n",
        "display(y_val.shape)"
      ],
      "execution_count": null,
      "outputs": [
        {
          "output_type": "display_data",
          "data": {
            "text/plain": [
              "pandas.core.frame.DataFrame"
            ]
          },
          "metadata": {
            "tags": []
          }
        },
        {
          "output_type": "display_data",
          "data": {
            "text/plain": [
              "(1518, 2)"
            ]
          },
          "metadata": {
            "tags": []
          }
        }
      ]
    },
    {
      "cell_type": "code",
      "metadata": {
        "ExecuteTime": {
          "end_time": "2019-09-03T04:45:45.548313Z",
          "start_time": "2019-09-03T04:45:45.545806Z"
        },
        "id": "vydax6KHXuSX",
        "colab_type": "code",
        "colab": {}
      },
      "source": [
        "# Prepare embeddings \n",
        "# Embedding Download from https://nlp.stanford.edu/projects/glove/\n",
        "# I am using glove.840B.300d.zip\n",
        "\n",
        "embeddings_index = {}\n",
        "\n",
        "# #Creating word vector dictionary from pre_trained word vectors\n",
        "\n",
        "# file = open('glove.840B.300d.txt', encoding='utf8')\n",
        "# from google.colab import drive\n",
        "# drive.mount('/gdrive')\n"
      ],
      "execution_count": null,
      "outputs": []
    },
    {
      "cell_type": "code",
      "metadata": {
        "id": "mIrQLsVdYcTI",
        "colab_type": "code",
        "colab": {}
      },
      "source": [
        ""
      ],
      "execution_count": null,
      "outputs": []
    },
    {
      "cell_type": "code",
      "metadata": {
        "id": "1e_FyEXDYqGk",
        "colab_type": "code",
        "colab": {}
      },
      "source": [
        "file = open('/gdrive/My Drive/Brainstation/Project/tractionondemand/glove.840B.300d.txt', encoding='utf8')"
      ],
      "execution_count": null,
      "outputs": []
    },
    {
      "cell_type": "code",
      "metadata": {
        "ExecuteTime": {
          "end_time": "2019-09-03T04:46:19.126855Z",
          "start_time": "2019-09-03T04:45:48.581192Z"
        },
        "id": "jbSB3HSAXuSZ",
        "colab_type": "code",
        "colab": {
          "base_uri": "https://localhost:8080/",
          "height": 34
        },
        "outputId": "25f9652f-d47d-4d64-85b8-dc0eb869cae3"
      },
      "source": [
        "for line in file:\n",
        "    values = line.split()\n",
        "    word = ''.join(values[:-embedding_dim])\n",
        "    coefs = np.asarray(values[-embedding_dim],dtype='float32')\n",
        "    embeddings_index[word] = coefs\n",
        "file.close\n",
        "    "
      ],
      "execution_count": null,
      "outputs": [
        {
          "output_type": "execute_result",
          "data": {
            "text/plain": [
              "<function TextIOWrapper.close>"
            ]
          },
          "metadata": {
            "tags": []
          },
          "execution_count": 149
        }
      ]
    },
    {
      "cell_type": "code",
      "metadata": {
        "ExecuteTime": {
          "end_time": "2019-09-03T05:00:32.522641Z",
          "start_time": "2019-09-03T05:00:32.342421Z"
        },
        "id": "ma9_upPZXuSb",
        "colab_type": "code",
        "colab": {}
      },
      "source": [
        "#training tokenizer\n",
        "tokenizer = Tokenizer(num_words = None)\n",
        "tokenizer.fit_on_texts(X_train)"
      ],
      "execution_count": null,
      "outputs": []
    },
    {
      "cell_type": "code",
      "metadata": {
        "ExecuteTime": {
          "end_time": "2019-09-03T05:14:45.550451Z",
          "start_time": "2019-09-03T05:14:45.411932Z"
        },
        "id": "Am2x-3AQXuSe",
        "colab_type": "code",
        "colab": {}
      },
      "source": [
        "#fitting tokenzier\n",
        "sequences_train = tokenizer.texts_to_sequences(X_train)"
      ],
      "execution_count": null,
      "outputs": []
    },
    {
      "cell_type": "code",
      "metadata": {
        "ExecuteTime": {
          "end_time": "2019-09-03T05:28:57.555469Z",
          "start_time": "2019-09-03T05:28:57.522620Z"
        },
        "id": "buQ9eijEXuSg",
        "colab_type": "code",
        "colab": {}
      },
      "source": [
        "seqeunces_val = tokenizer.texts_to_sequences(X_val)"
      ],
      "execution_count": null,
      "outputs": []
    },
    {
      "cell_type": "code",
      "metadata": {
        "ExecuteTime": {
          "end_time": "2019-09-03T05:43:21.836716Z",
          "start_time": "2019-09-03T05:43:21.805242Z"
        },
        "id": "grk-ZUGGXuSi",
        "colab_type": "code",
        "colab": {}
      },
      "source": [
        "#padding any short squences with 0s\n",
        "X_train = pad_sequences(sequences_train, maxlen = max_len)\n"
      ],
      "execution_count": null,
      "outputs": []
    },
    {
      "cell_type": "code",
      "metadata": {
        "ExecuteTime": {
          "end_time": "2019-09-03T05:57:26.853749Z",
          "start_time": "2019-09-03T05:57:26.841841Z"
        },
        "id": "mJpzRSRzXuSk",
        "colab_type": "code",
        "colab": {}
      },
      "source": [
        "X_val = pad_sequences(seqeunces_val, maxlen = max_len)"
      ],
      "execution_count": null,
      "outputs": []
    },
    {
      "cell_type": "code",
      "metadata": {
        "ExecuteTime": {
          "end_time": "2019-09-03T13:10:15.292443Z",
          "start_time": "2019-09-03T13:10:15.289766Z"
        },
        "id": "gYiIfwV1XuSm",
        "colab_type": "code",
        "colab": {}
      },
      "source": [
        "#Creating the embedding layer, words that are not in the vocabulary are assigned to zero vector\n",
        "word_index = tokenizer.word_index\n",
        "embedding_matrix = np.zeros((len(word_index) + 1, embedding_dim))\n",
        "\n"
      ],
      "execution_count": null,
      "outputs": []
    },
    {
      "cell_type": "code",
      "metadata": {
        "ExecuteTime": {
          "end_time": "2019-09-03T13:24:35.435511Z",
          "start_time": "2019-09-03T13:24:35.413516Z"
        },
        "id": "xFz-cQzKXuSo",
        "colab_type": "code",
        "colab": {}
      },
      "source": [
        "for word, i in word_index.items():\n",
        "    embedding_vector = embeddings_index.get(word)\n",
        "    if embedding_vector is not None:\n",
        "        embedding_matrix[i] = embedding_vector"
      ],
      "execution_count": null,
      "outputs": []
    },
    {
      "cell_type": "code",
      "metadata": {
        "ExecuteTime": {
          "end_time": "2019-09-03T13:38:44.533173Z",
          "start_time": "2019-09-03T13:38:44.509696Z"
        },
        "id": "aljU-8NbXuSq",
        "colab_type": "code",
        "colab": {}
      },
      "source": [
        "embedding_layer = Embedding(len(word_index)+1, embedding_dim, \n",
        "                            weights = [embedding_matrix], \n",
        "                            input_length = max_len,\n",
        "                           trainable = False)\n",
        "input = Input(shape=(max_len, ), dtype = 'int32')\n",
        "\n"
      ],
      "execution_count": null,
      "outputs": []
    },
    {
      "cell_type": "code",
      "metadata": {
        "ExecuteTime": {
          "end_time": "2019-09-03T13:52:55.680970Z",
          "start_time": "2019-09-03T13:52:55.601196Z"
        },
        "id": "DnQ5-kIkXuSt",
        "colab_type": "code",
        "colab": {}
      },
      "source": [
        "embedded_sequences = embedding_layer(input)"
      ],
      "execution_count": null,
      "outputs": []
    },
    {
      "cell_type": "code",
      "metadata": {
        "ExecuteTime": {
          "end_time": "2019-09-03T14:07:03.438169Z",
          "start_time": "2019-09-03T14:07:00.140007Z"
        },
        "id": "sn4bA1vDXuSv",
        "colab_type": "code",
        "colab": {}
      },
      "source": [
        "from keras.layers import GlobalMaxPooling1D\n",
        "x = Bidirectional(CuDNNGRU(50, return_sequences=True))(embedded_sequences)\n",
        "x = GlobalMaxPooling1D()(x)\n",
        "x = Dense(50, activation = 'relu')(x)\n",
        "x = Dropout(0.1)(x)"
      ],
      "execution_count": null,
      "outputs": []
    },
    {
      "cell_type": "code",
      "metadata": {
        "ExecuteTime": {
          "end_time": "2019-09-03T14:40:52.041945Z",
          "start_time": "2019-09-03T14:40:51.994266Z"
        },
        "id": "8sOYSGhOXuSx",
        "colab_type": "code",
        "colab": {
          "base_uri": "https://localhost:8080/",
          "height": 51
        },
        "outputId": "2c8f6b46-9ed9-48eb-a5c3-51e6d6bb45c6"
      },
      "source": [
        "output = Dense(total_classes, activation = 'softmax')(x)\n",
        "model = Model(input=input, outputs=output)\n",
        "model.compile(loss='categorical_crossentropy', optimizer = 'adam',\n",
        "              metrics=['accuracy'])\n"
      ],
      "execution_count": null,
      "outputs": [
        {
          "output_type": "stream",
          "text": [
            "/usr/local/lib/python3.6/dist-packages/ipykernel_launcher.py:2: UserWarning: Update your `Model` call to the Keras 2 API: `Model(outputs=Tensor(\"de..., inputs=Tensor(\"in...)`\n",
            "  \n"
          ],
          "name": "stderr"
        }
      ]
    },
    {
      "cell_type": "code",
      "metadata": {
        "ExecuteTime": {
          "end_time": "2019-09-03T14:55:09.970123Z",
          "start_time": "2019-09-03T14:55:09.967650Z"
        },
        "id": "w6ZBdFo7XuSy",
        "colab_type": "code",
        "colab": {}
      },
      "source": [
        "checkpoint = ModelCheckpoint('model.h5', monitor='val_loss',\n",
        "                            verbose=1, save_best_only=True,\n",
        "                            mode='min')\n",
        "early = EarlyStopping(monitor='val_loss', mode='min',patience = 3)\n",
        "callback = [checkpoint, early]"
      ],
      "execution_count": null,
      "outputs": []
    },
    {
      "cell_type": "code",
      "metadata": {
        "ExecuteTime": {
          "end_time": "2019-09-03T15:25:08.230601Z",
          "start_time": "2019-09-03T15:25:07.626466Z"
        },
        "id": "tSqBTizTXuS0",
        "colab_type": "code",
        "colab": {
          "base_uri": "https://localhost:8080/",
          "height": 663
        },
        "outputId": "fe4642be-17f6-4b2f-db5f-66ccea4b3e42"
      },
      "source": [
        "model.fit(X_train, y_train, batch_size=batch_size,\n",
        "         epochs=epochs, validation_data =(X_val, y_val),\n",
        "         callbacks = callback)"
      ],
      "execution_count": null,
      "outputs": [
        {
          "output_type": "stream",
          "text": [
            "Train on 6069 samples, validate on 1518 samples\n",
            "Epoch 1/100\n",
            "6069/6069 [==============================] - 1s 238us/step - loss: 0.2194 - acc: 0.9461 - val_loss: 0.1645 - val_acc: 0.9638\n",
            "\n",
            "Epoch 00001: val_loss improved from inf to 0.16446, saving model to model.h5\n",
            "Epoch 2/100\n",
            "6069/6069 [==============================] - 1s 120us/step - loss: 0.1592 - acc: 0.9638 - val_loss: 0.1588 - val_acc: 0.9638\n",
            "\n",
            "Epoch 00002: val_loss improved from 0.16446 to 0.15878, saving model to model.h5\n",
            "Epoch 3/100\n",
            "6069/6069 [==============================] - 1s 127us/step - loss: 0.1505 - acc: 0.9638 - val_loss: 0.1555 - val_acc: 0.9638\n",
            "\n",
            "Epoch 00003: val_loss improved from 0.15878 to 0.15547, saving model to model.h5\n",
            "Epoch 4/100\n",
            "6069/6069 [==============================] - 1s 124us/step - loss: 0.1504 - acc: 0.9638 - val_loss: 0.1565 - val_acc: 0.9638\n",
            "\n",
            "Epoch 00004: val_loss did not improve from 0.15547\n",
            "Epoch 5/100\n",
            "6069/6069 [==============================] - 1s 121us/step - loss: 0.1472 - acc: 0.9638 - val_loss: 0.1578 - val_acc: 0.9638\n",
            "\n",
            "Epoch 00005: val_loss did not improve from 0.15547\n",
            "Epoch 6/100\n",
            "6069/6069 [==============================] - 1s 121us/step - loss: 0.1470 - acc: 0.9638 - val_loss: 0.1550 - val_acc: 0.9638\n",
            "\n",
            "Epoch 00006: val_loss improved from 0.15547 to 0.15497, saving model to model.h5\n",
            "Epoch 7/100\n",
            "6069/6069 [==============================] - 1s 124us/step - loss: 0.1465 - acc: 0.9638 - val_loss: 0.1562 - val_acc: 0.9638\n",
            "\n",
            "Epoch 00007: val_loss did not improve from 0.15497\n",
            "Epoch 8/100\n",
            "6069/6069 [==============================] - 1s 122us/step - loss: 0.1450 - acc: 0.9638 - val_loss: 0.1560 - val_acc: 0.9638\n",
            "\n",
            "Epoch 00008: val_loss did not improve from 0.15497\n",
            "Epoch 9/100\n",
            "6069/6069 [==============================] - 1s 123us/step - loss: 0.1464 - acc: 0.9638 - val_loss: 0.1569 - val_acc: 0.9638\n",
            "\n",
            "Epoch 00009: val_loss did not improve from 0.15497\n"
          ],
          "name": "stdout"
        },
        {
          "output_type": "execute_result",
          "data": {
            "text/plain": [
              "<keras.callbacks.History at 0x7f7461d42780>"
            ]
          },
          "metadata": {
            "tags": []
          },
          "execution_count": 162
        }
      ]
    },
    {
      "cell_type": "code",
      "metadata": {
        "ExecuteTime": {
          "end_time": "2019-09-03T15:09:53.928614Z",
          "start_time": "2019-09-03T15:08:03.575Z"
        },
        "id": "T8CJpWulXuS3",
        "colab_type": "code",
        "colab": {
          "base_uri": "https://localhost:8080/",
          "height": 34
        },
        "outputId": "9ca69194-b4e0-4777-a96c-c747f54a7589"
      },
      "source": [
        "\n",
        "predict_val = model.predict(X_val)\n",
        "predict_val = [np.argmax(x) for x in predict_val]\n",
        "display(len(predict_val))\n"
      ],
      "execution_count": null,
      "outputs": [
        {
          "output_type": "display_data",
          "data": {
            "text/plain": [
              "1518"
            ]
          },
          "metadata": {
            "tags": []
          }
        }
      ]
    },
    {
      "cell_type": "code",
      "metadata": {
        "id": "gxyWYxVe8fcy",
        "colab_type": "code",
        "colab": {
          "base_uri": "https://localhost:8080/",
          "height": 68
        },
        "outputId": "8f5e361a-aa06-4972-d402-6438a5c5610f"
      },
      "source": [
        "display(type(y_val))\n",
        "y_val_array = y_val.to_numpy()\n",
        "display(type(y_val_array))\n",
        "display(len(y_val_array))\n",
        "y_val_array = [np.argmax(x) for x in y_val_array]"
      ],
      "execution_count": null,
      "outputs": [
        {
          "output_type": "display_data",
          "data": {
            "text/plain": [
              "pandas.core.frame.DataFrame"
            ]
          },
          "metadata": {
            "tags": []
          }
        },
        {
          "output_type": "display_data",
          "data": {
            "text/plain": [
              "numpy.ndarray"
            ]
          },
          "metadata": {
            "tags": []
          }
        },
        {
          "output_type": "display_data",
          "data": {
            "text/plain": [
              "1518"
            ]
          },
          "metadata": {
            "tags": []
          }
        }
      ]
    },
    {
      "cell_type": "code",
      "metadata": {
        "id": "z1_pDH6GEYRT",
        "colab_type": "code",
        "colab": {
          "base_uri": "https://localhost:8080/",
          "height": 51
        },
        "outputId": "46a9c647-2653-462a-8f5d-2b0066aa4bfb"
      },
      "source": [
        "display(len(y_val))\n",
        "display(len(predict_val))"
      ],
      "execution_count": null,
      "outputs": [
        {
          "output_type": "display_data",
          "data": {
            "text/plain": [
              "1518"
            ]
          },
          "metadata": {
            "tags": []
          }
        },
        {
          "output_type": "display_data",
          "data": {
            "text/plain": [
              "1518"
            ]
          },
          "metadata": {
            "tags": []
          }
        }
      ]
    },
    {
      "cell_type": "code",
      "metadata": {
        "ExecuteTime": {
          "end_time": "2019-09-03T15:09:53.933428Z",
          "start_time": "2019-09-03T15:08:07.114Z"
        },
        "id": "KL0wthsgXuS5",
        "colab_type": "code",
        "colab": {}
      },
      "source": [
        "from sklearn.metrics import accuracy_score\n",
        "from sklearn.metrics import confusion_matrix\n",
        "accuracy_score = accuracy_score(y_val_array, predict_val)"
      ],
      "execution_count": null,
      "outputs": []
    },
    {
      "cell_type": "code",
      "metadata": {
        "id": "Xuqmqn3JEpoH",
        "colab_type": "code",
        "colab": {
          "base_uri": "https://localhost:8080/",
          "height": 34
        },
        "outputId": "8372bf91-4d9a-4d9e-8200-c529898022e9"
      },
      "source": [
        "accuracy_score"
      ],
      "execution_count": null,
      "outputs": [
        {
          "output_type": "execute_result",
          "data": {
            "text/plain": [
              "0.9637681159420289"
            ]
          },
          "metadata": {
            "tags": []
          },
          "execution_count": 167
        }
      ]
    },
    {
      "cell_type": "code",
      "metadata": {
        "id": "uv8Tv3v9XuS8",
        "colab_type": "code",
        "colab": {
          "base_uri": "https://localhost:8080/",
          "height": 51
        },
        "outputId": "f86c25c3-d08c-4ae4-f611-ca93a9fb8a40"
      },
      "source": [
        "cm = confusion_matrix(y_val_array,predict_val)\n",
        "cm"
      ],
      "execution_count": null,
      "outputs": [
        {
          "output_type": "execute_result",
          "data": {
            "text/plain": [
              "array([[   0,   55],\n",
              "       [   0, 1463]])"
            ]
          },
          "metadata": {
            "tags": []
          },
          "execution_count": 168
        }
      ]
    },
    {
      "cell_type": "code",
      "metadata": {
        "id": "Gcna4Qol5aiy",
        "colab_type": "code",
        "colab": {
          "base_uri": "https://localhost:8080/",
          "height": 274
        },
        "outputId": "0713ae20-507b-4cff-cc13-1d667df3c7e9"
      },
      "source": [
        "sns.heatmap(cm,annot=True,\n",
        "            xticklabels=['Hired','Not Hired'],yticklabels=['Hired','Not Hired'],\n",
        "           fmt='g')\n",
        "plt.show()"
      ],
      "execution_count": null,
      "outputs": [
        {
          "output_type": "display_data",
          "data": {
            "image/png": "[encoded data removed]",
            "text/plain": [
              "<Figure size 432x288 with 2 Axes>"
            ]
          },
          "metadata": {
            "tags": []
          }
        }
      ]
    },
    {
      "cell_type": "code",
      "metadata": {
        "id": "b3hJTICs6Agy",
        "colab_type": "code",
        "colab": {}
      },
      "source": [
        ""
      ],
      "execution_count": null,
      "outputs": []
    }
  ]
}